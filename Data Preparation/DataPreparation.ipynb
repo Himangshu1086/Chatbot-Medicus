{
 "cells": [
  {
   "cell_type": "code",
   "execution_count": 6,
   "metadata": {},
   "outputs": [
    {
     "name": "stderr",
     "output_type": "stream",
     "text": [
      "\n",
      "\n",
      "====== WebDriver manager ======\n",
      "Current google-chrome version is 103.0.5060\n",
      "Get LATEST chromedriver version for 103.0.5060 google-chrome\n",
      "Driver [C:\\Users\\HIMANGSHUB\\.wdm\\drivers\\chromedriver\\win32\\103.0.5060.134\\chromedriver.exe] found in cache\n"
     ]
    }
   ],
   "source": [
    "from selenium import webdriver\n",
    "import time\n",
    "from webdriver_manager.chrome import ChromeDriverManager\n",
    "driver = webdriver.Chrome(ChromeDriverManager().install())"
   ]
  },
  {
   "cell_type": "code",
   "execution_count": 1,
   "metadata": {},
   "outputs": [],
   "source": [
    "import pandas as pd\n",
    "import numpy as np\n",
    "import json\n",
    "from selenium.webdriver.common.action_chains import ActionChains"
   ]
  },
  {
   "cell_type": "code",
   "execution_count": 2,
   "metadata": {},
   "outputs": [],
   "source": [
    "diabetes = ['https://www.eatingwell.com/article/290863/top-common-questions-about-diabetes/',\n",
    "'https://uihc.org/health-topics/diabetes-frequently-asked-questions',\n",
    "'https://www.virtahealth.com/faq/diabetes-faq',\n",
    "'https://www.medindia.net/patients/patientinfo/diabetes_faq.htm',\n",
    "'http://advanceddiabetescentre.com/faq/'\n",
    "]\n",
    "\n",
    "covid_19 = [\n",
    "    'https://www.fda.gov/emergency-preparedness-and-response/coronavirus-disease-2019-covid-19/covid-19-frequently-asked-questions',\n",
    "    'https://www.chop.edu/centers-programs/vaccine-education-center/making-vaccines/prevent-covid',\n",
    "    'https://wecandothis.hhs.gov/resource/frequently-asked-questions-about-covid-19-and-adolescents',\n",
    "    'https://www.upmc.com/coronavirus/faq',\n",
    "    'https://www.unicef.org/coronavirus/what-you-need-to-know-covid-vaccine'\n",
    "]\n",
    "\n",
    "heart_attack = [\n",
    "    'https://uihc.org/health-topics/risk-factors-heart-disease-frequently-asked-questions',\n",
    "    'https://www.medindia.net/patients/patientinfo/heartattack-faqs.htm',\n",
    "    'https://www.nhs.uk/conditions/heart-attack/',\n",
    "    'https://depts.washington.edu/learncpr/askdoctor.html',\n",
    "    'https://www.medindia.net/patientinfo/cardiac-arrest-faqs.htm',\n",
    "    'https://www.sca-aware.org/sudden-cardiac-arrest-faq',\n",
    "    'https://www.saveheartsfoundation.org/faq.html',\n",
    "]\n",
    "\n",
    "fitness = [\n",
    "    'https://www.drlamcoaching.com/blog/exercise-faq/',\n",
    "    'https://sunnyhealthfitness.com/blogs/health-wellness/top-frequently-asked-fitness-questions-answered',\n",
    "    'https://www.emedicinehealth.com/exercise_and_fitness_quiz_iq/faq.htm#faq-rel-ss',\n",
    "    'https://www.ideafit.com/personal-training/10-faqs-about-physical-activity/',\n",
    "    'https://magazine.vitality.co.uk/14-most-asked-fitness-questions-answered/',\n",
    "\n",
    "]\n",
    "\n",
    "nutrition = [\n",
    "    'https://lifeapps.io/nutrition-faq/',\n",
    "    'https://www.nutrition.gov/expert-q-a',\n",
    "    'https://www.premierhealth.com/your-health/health-topics/food-and-nutrition/nutrition-faq',\n",
    "    'https://www.futurelearn.com/info/courses/ssa-sandbox/0/steps/11819',\n",
    "    'https://www.rightathome.net/blog/10-most-frequently-asked-questions-for-registered-dietitians',\n",
    "    'https://www.seattletimes.com/explore/shop-northwest/a-dietitian-answers-her-10-most-frequently-asked-questions/',\n",
    "    \n",
    "]\n"
   ]
  },
  {
   "cell_type": "markdown",
   "metadata": {},
   "source": [
    "# Mental health data preparation"
   ]
  },
  {
   "cell_type": "code",
   "execution_count": 265,
   "metadata": {},
   "outputs": [
    {
     "data": {
      "text/html": [
       "<div>\n",
       "<style scoped>\n",
       "    .dataframe tbody tr th:only-of-type {\n",
       "        vertical-align: middle;\n",
       "    }\n",
       "\n",
       "    .dataframe tbody tr th {\n",
       "        vertical-align: top;\n",
       "    }\n",
       "\n",
       "    .dataframe thead th {\n",
       "        text-align: right;\n",
       "    }\n",
       "</style>\n",
       "<table border=\"1\" class=\"dataframe\">\n",
       "  <thead>\n",
       "    <tr style=\"text-align: right;\">\n",
       "      <th></th>\n",
       "      <th>Question_ID</th>\n",
       "      <th>Questions</th>\n",
       "      <th>Answers</th>\n",
       "    </tr>\n",
       "  </thead>\n",
       "  <tbody>\n",
       "    <tr>\n",
       "      <th>0</th>\n",
       "      <td>1590140</td>\n",
       "      <td>What does it mean to have a mental illness?</td>\n",
       "      <td>Mental illnesses are health conditions that di...</td>\n",
       "    </tr>\n",
       "    <tr>\n",
       "      <th>1</th>\n",
       "      <td>2110618</td>\n",
       "      <td>Who does mental illness affect?</td>\n",
       "      <td>It is estimated that mental illness affects 1 ...</td>\n",
       "    </tr>\n",
       "    <tr>\n",
       "      <th>2</th>\n",
       "      <td>6361820</td>\n",
       "      <td>What causes mental illness?</td>\n",
       "      <td>It is estimated that mental illness affects 1 ...</td>\n",
       "    </tr>\n",
       "    <tr>\n",
       "      <th>3</th>\n",
       "      <td>9434130</td>\n",
       "      <td>What are some of the warning signs of mental i...</td>\n",
       "      <td>Symptoms of mental health disorders vary depen...</td>\n",
       "    </tr>\n",
       "    <tr>\n",
       "      <th>4</th>\n",
       "      <td>7657263</td>\n",
       "      <td>Can people with mental illness recover?</td>\n",
       "      <td>When healing from mental illness, early identi...</td>\n",
       "    </tr>\n",
       "    <tr>\n",
       "      <th>...</th>\n",
       "      <td>...</td>\n",
       "      <td>...</td>\n",
       "      <td>...</td>\n",
       "    </tr>\n",
       "    <tr>\n",
       "      <th>93</th>\n",
       "      <td>4373204</td>\n",
       "      <td>How do I know if I'm drinking too much?</td>\n",
       "      <td>Sorting out if you are drinking too much can b...</td>\n",
       "    </tr>\n",
       "    <tr>\n",
       "      <th>94</th>\n",
       "      <td>7807643</td>\n",
       "      <td>If cannabis is dangerous, why are we legalizin...</td>\n",
       "      <td>Cannabis smoke, for example, contains cancer-c...</td>\n",
       "    </tr>\n",
       "    <tr>\n",
       "      <th>95</th>\n",
       "      <td>4352464</td>\n",
       "      <td>How can I convince my kids not to use drugs?</td>\n",
       "      <td>You can't. But you can influence their capacit...</td>\n",
       "    </tr>\n",
       "    <tr>\n",
       "      <th>96</th>\n",
       "      <td>6521784</td>\n",
       "      <td>What is the legal status (and evidence) of CBD...</td>\n",
       "      <td>Cannabidiol or CBD is a naturally occurring co...</td>\n",
       "    </tr>\n",
       "    <tr>\n",
       "      <th>97</th>\n",
       "      <td>3221856</td>\n",
       "      <td>What is the evidence on vaping?</td>\n",
       "      <td>\"Vaping\" is the term for using a device where ...</td>\n",
       "    </tr>\n",
       "  </tbody>\n",
       "</table>\n",
       "<p>98 rows × 3 columns</p>\n",
       "</div>"
      ],
      "text/plain": [
       "    Question_ID                                          Questions  \\\n",
       "0       1590140        What does it mean to have a mental illness?   \n",
       "1       2110618                    Who does mental illness affect?   \n",
       "2       6361820                        What causes mental illness?   \n",
       "3       9434130  What are some of the warning signs of mental i...   \n",
       "4       7657263            Can people with mental illness recover?   \n",
       "..          ...                                                ...   \n",
       "93      4373204            How do I know if I'm drinking too much?   \n",
       "94      7807643  If cannabis is dangerous, why are we legalizin...   \n",
       "95      4352464       How can I convince my kids not to use drugs?   \n",
       "96      6521784  What is the legal status (and evidence) of CBD...   \n",
       "97      3221856                    What is the evidence on vaping?   \n",
       "\n",
       "                                              Answers  \n",
       "0   Mental illnesses are health conditions that di...  \n",
       "1   It is estimated that mental illness affects 1 ...  \n",
       "2   It is estimated that mental illness affects 1 ...  \n",
       "3   Symptoms of mental health disorders vary depen...  \n",
       "4   When healing from mental illness, early identi...  \n",
       "..                                                ...  \n",
       "93  Sorting out if you are drinking too much can b...  \n",
       "94  Cannabis smoke, for example, contains cancer-c...  \n",
       "95  You can't. But you can influence their capacit...  \n",
       "96  Cannabidiol or CBD is a naturally occurring co...  \n",
       "97  \"Vaping\" is the term for using a device where ...  \n",
       "\n",
       "[98 rows x 3 columns]"
      ]
     },
     "execution_count": 265,
     "metadata": {},
     "output_type": "execute_result"
    }
   ],
   "source": [
    "df_mental_health = pd.read_csv('Mental_Health_FAQ.csv')\n",
    "df_mental_health"
   ]
  },
  {
   "cell_type": "code",
   "execution_count": 224,
   "metadata": {},
   "outputs": [
    {
     "data": {
      "text/plain": [
       "0          What does it mean to have a mental illness?\n",
       "1                      Who does mental illness affect?\n",
       "2                          What causes mental illness?\n",
       "3    What are some of the warning signs of mental i...\n",
       "4              Can people with mental illness recover?\n",
       "Name: Questions, dtype: object"
      ]
     },
     "execution_count": 224,
     "metadata": {},
     "output_type": "execute_result"
    }
   ],
   "source": [
    "df_mental_health['Questions'].head()"
   ]
  },
  {
   "cell_type": "code",
   "execution_count": 223,
   "metadata": {},
   "outputs": [
    {
     "data": {
      "text/plain": [
       "0    Mental illnesses are health conditions that di...\n",
       "1    It is estimated that mental illness affects 1 ...\n",
       "2    It is estimated that mental illness affects 1 ...\n",
       "3    Symptoms of mental health disorders vary depen...\n",
       "4    When healing from mental illness, early identi...\n",
       "Name: Answers, dtype: object"
      ]
     },
     "execution_count": 223,
     "metadata": {},
     "output_type": "execute_result"
    }
   ],
   "source": [
    "df_mental_health['Answers'].head"
   ]
  },
  {
   "cell_type": "code",
   "execution_count": 253,
   "metadata": {},
   "outputs": [],
   "source": [
    "mental_health_data = []\n",
    "for qna in df_mental_health.values :\n",
    "    mental_health_data.append([qna[1],qna[2]])"
   ]
  },
  {
   "cell_type": "code",
   "execution_count": 261,
   "metadata": {},
   "outputs": [
    {
     "data": {
      "text/plain": [
       "['What does it mean to have a mental illness?',\n",
       " 'Mental illnesses are health conditions that disrupt a personâ€™s thoughts, emotions, relationships, and daily functioning. They are associated with distress and diminished capacity to engage in the ordinary activities of daily life.\\nMental illnesses fall along a continuum of severity: some are fairly mild and only interfere with some aspects of life, such as certain phobias. On the other end of the spectrum lie serious mental illnesses, which result in major functional impairment and interference with daily life. These include such disorders as major depression, schizophrenia, and bipolar disorder, and may require that the person receives care in a hospital.\\nIt is important to know that mental illnesses are medical conditions that have nothing to do with a personâ€™s character, intelligence, or willpower. Just as diabetes is a disorder of the pancreas, mental illness is a medical condition due to the brainâ€™s biology.\\nSimilarly to how one would treat diabetes with medication and insulin, mental illness is treatable with a combination of medication and social support. These treatments are highly effective, with 70-90 percent of individuals receiving treatment experiencing a reduction in symptoms and an improved quality of life. With the proper treatment, it is very possible for a person with mental illness to be independent and successful.']"
      ]
     },
     "execution_count": 261,
     "metadata": {},
     "output_type": "execute_result"
    }
   ],
   "source": [
    "mental_health_data[0]"
   ]
  },
  {
   "cell_type": "code",
   "execution_count": 256,
   "metadata": {},
   "outputs": [],
   "source": [
    "mh_df = pd.DataFrame({'mental_health':[]})\n",
    "mh_df.to_json('Dataset.json')"
   ]
  },
  {
   "cell_type": "markdown",
   "metadata": {},
   "source": [
    "# Create Intent Tag for the dataset"
   ]
  },
  {
   "cell_type": "code",
   "execution_count": 7,
   "metadata": {},
   "outputs": [],
   "source": [
    "# create the intent tag in the dataset\n",
    "def create_intent(intent , filename='Dataset.json'):\n",
    "    with open(filename,'r+',encoding='utf-8') as file :\n",
    "        file_data = json.load(file)\n",
    "        file_data[f'{intent}'] = []\n",
    "        file.seek(0)\n",
    "        # convert back to json.\n",
    "        json.dump(file_data, file, indent = 4)"
   ]
  },
  {
   "cell_type": "markdown",
   "metadata": {},
   "source": [
    "# Function to write json file "
   ]
  },
  {
   "cell_type": "code",
   "execution_count": 9,
   "metadata": {},
   "outputs": [],
   "source": [
    "# function to add to Dataset_JSON\n",
    "def write_json(new_data,intent, filename='Dataset.json'):\n",
    "    with open(filename,'r+',encoding='utf-8') as file:\n",
    "        # First we load existing data into a dict.\n",
    "        file_data = json.load(file)\n",
    "        for data in new_data :\n",
    "          file_data[f'{intent}'].append(data);\n",
    "        # Sets file's current position at offset.\n",
    "        file.seek(0)\n",
    "        # convert back to json.\n",
    "        json.dump(file_data, file, indent = 4)\n",
    "\n",
    "      "
   ]
  },
  {
   "cell_type": "code",
   "execution_count": null,
   "metadata": {},
   "outputs": [],
   "source": []
  },
  {
   "cell_type": "code",
   "execution_count": null,
   "metadata": {},
   "outputs": [],
   "source": []
  },
  {
   "cell_type": "code",
   "execution_count": null,
   "metadata": {},
   "outputs": [],
   "source": [
    "create_intent('mental_health')\n",
    "create_intent('fitness')\n",
    "create_intent('nutrition')"
   ]
  },
  {
   "cell_type": "code",
   "execution_count": null,
   "metadata": {},
   "outputs": [],
   "source": [
    "new_data = mental_health_data\n",
    "write_json(new_data , 'mental_health');"
   ]
  },
  {
   "cell_type": "code",
   "execution_count": null,
   "metadata": {},
   "outputs": [],
   "source": []
  },
  {
   "cell_type": "markdown",
   "metadata": {},
   "source": [
    "#   Data extraction for Diabetes  "
   ]
  },
  {
   "cell_type": "code",
   "execution_count": 371,
   "metadata": {},
   "outputs": [],
   "source": [
    "diabetes_data = []"
   ]
  },
  {
   "cell_type": "code",
   "execution_count": null,
   "metadata": {},
   "outputs": [],
   "source": []
  },
  {
   "cell_type": "code",
   "execution_count": 376,
   "metadata": {},
   "outputs": [],
   "source": [
    "driver.get(diabetes[0])\n",
    "para = driver.find_elements_by_tag_name(\"p\")\n",
    "qna = []\n",
    "ans = []\n",
    "\n",
    "for tag in para:\n",
    "    if tag.find_elements_by_tag_name('strong'):\n",
    "        if(tag.text.split()[0]=='Q:'):\n",
    "            qna.append(tag.text)\n",
    "        if(tag.text.split()[0]=='A:'):\n",
    "            ans.append(tag.text);\n",
    "    else :\n",
    "        continue\n",
    "\n",
    "for data in range(len(ans)):\n",
    "    diabetes_data.append([qna[data] , ans[data]]) "
   ]
  },
  {
   "cell_type": "code",
   "execution_count": null,
   "metadata": {},
   "outputs": [],
   "source": []
  },
  {
   "cell_type": "code",
   "execution_count": 580,
   "metadata": {},
   "outputs": [],
   "source": [
    "driver.get(diabetes[2])\n",
    "tag_link = driver.find_elements_by_xpath(\"/html/body/div[5]/div/div[2]/h4\")\n",
    "links_dia_qna = []\n",
    "for i in range(1,len(tag_link)) :\n",
    "    link = driver.find_elements_by_xpath(f\"/html/body/div[5]/div/div[2]/h4[{i}]/a\")[0].get_attribute('href')\n",
    "    links_dia_qna.append(link)"
   ]
  },
  {
   "cell_type": "code",
   "execution_count": 581,
   "metadata": {},
   "outputs": [],
   "source": [
    "for link in links_dia_qna:\n",
    "        driver.get(link)\n",
    "        time.sleep(1)\n",
    "        question = driver.find_element_by_xpath('//*[@id=\"main-content\"]/div/h1').text\n",
    "        answers = driver.find_element_by_xpath('/html/body/div[5]/div/div[2]').text\n",
    "        diabetes_data.append([question,answers])\n",
    "driver.close()\n",
    "\n"
   ]
  },
  {
   "cell_type": "code",
   "execution_count": null,
   "metadata": {},
   "outputs": [],
   "source": []
  },
  {
   "cell_type": "code",
   "execution_count": null,
   "metadata": {},
   "outputs": [],
   "source": []
  },
  {
   "cell_type": "code",
   "execution_count": 752,
   "metadata": {},
   "outputs": [],
   "source": [
    "driver = webdriver.Chrome(ChromeDriverManager().install())\n",
    "driver.get(diabetes[4])\n",
    "length_of_qns = driver.find_elements_by_class_name(\"panel\")\n",
    "for i in range(0,len(length_of_qns)) :\n",
    "    question = driver.find_elements_by_class_name(\"panel-heading\")[i].text\n",
    "    answer = driver.find_elements_by_class_name(\"panel\")[i].find_element_by_class_name(\"wpb_wrapper\").get_attribute(\"innerText\")\n",
    "    diabetes_data.append([question,answer])\n",
    "driver.close()"
   ]
  },
  {
   "cell_type": "code",
   "execution_count": 755,
   "metadata": {},
   "outputs": [],
   "source": [
    "create_intent('diabetes')"
   ]
  },
  {
   "cell_type": "code",
   "execution_count": 756,
   "metadata": {},
   "outputs": [],
   "source": [
    "new_data = diabetes_data\n",
    "write_json(new_data , 'diabetes');"
   ]
  },
  {
   "cell_type": "code",
   "execution_count": null,
   "metadata": {},
   "outputs": [],
   "source": []
  },
  {
   "cell_type": "markdown",
   "metadata": {},
   "source": [
    "# Covid 19 datset"
   ]
  },
  {
   "cell_type": "code",
   "execution_count": 28,
   "metadata": {},
   "outputs": [],
   "source": [
    "covid_df = pd.read_csv(\"COVID19_FAQ.csv\")\n",
    "data_covid = []\n",
    "for qns in covid_df.index :\n",
    "    data_covid.append([covid_df['questions'][qns], covid_df['answers'][qns]])\n",
    "create_intent('covid')"
   ]
  },
  {
   "cell_type": "code",
   "execution_count": 29,
   "metadata": {},
   "outputs": [],
   "source": [
    "write_json(data_covid , 'covid');"
   ]
  },
  {
   "cell_type": "code",
   "execution_count": 32,
   "metadata": {},
   "outputs": [],
   "source": [
    "driver.get(covid_19[0])"
   ]
  },
  {
   "cell_type": "code",
   "execution_count": 55,
   "metadata": {},
   "outputs": [],
   "source": [
    "covid_dataset = []\n",
    "tags = driver.find_elements_by_class_name(\"fda-accordion-panel\")\n",
    "for qns in tags:\n",
    "    question = qns.get_attribute(\"title\")\n",
    "    answer = qns.find_element_by_class_name(\"panel-body\").get_attribute(\"innerText\")\n",
    "    covid_dataset.append([question,answer])\n"
   ]
  },
  {
   "cell_type": "code",
   "execution_count": 56,
   "metadata": {},
   "outputs": [],
   "source": [
    "write_json(covid_dataset , 'covid');"
   ]
  },
  {
   "cell_type": "code",
   "execution_count": 122,
   "metadata": {},
   "outputs": [],
   "source": [
    "driver.get(covid_19[3])"
   ]
  },
  {
   "cell_type": "code",
   "execution_count": 126,
   "metadata": {},
   "outputs": [],
   "source": [
    "data_covid = []\n",
    "tags = driver.find_elements_by_class_name(\"panel-body\")\n",
    "for ind in range(len(tags)):\n",
    "    question = driver.find_elements_by_class_name(\"panel-title\")[ind].get_attribute(\"innerText\")\n",
    "    answer = driver.find_elements_by_class_name(\"panel-body\")[ind].get_attribute('innerText')\n",
    "    data_covid.append([question,answer])"
   ]
  },
  {
   "cell_type": "code",
   "execution_count": 127,
   "metadata": {},
   "outputs": [],
   "source": [
    "write_json(data_covid , 'covid');"
   ]
  },
  {
   "cell_type": "code",
   "execution_count": 128,
   "metadata": {},
   "outputs": [],
   "source": [
    "driver.get(covid_19[4])"
   ]
  },
  {
   "cell_type": "code",
   "execution_count": 139,
   "metadata": {},
   "outputs": [],
   "source": [
    "data_covid = []\n",
    "tags = driver.find_elements_by_class_name(\"accordion-title\")\n",
    "for ind in range(len(tags)):\n",
    "    qns = driver.find_elements_by_class_name(\"accordion-title\")[ind].get_attribute(\"innerText\")\n",
    "    ans = driver.find_elements_by_class_name(\"accordion-description\")[ind].get_attribute(\"innerText\")\n",
    "    data_covid.append([qns,ans])\n"
   ]
  },
  {
   "cell_type": "code",
   "execution_count": 140,
   "metadata": {},
   "outputs": [],
   "source": [
    "write_json(data_covid , 'covid');"
   ]
  },
  {
   "cell_type": "markdown",
   "metadata": {},
   "source": [
    "# Fitness Qns"
   ]
  },
  {
   "cell_type": "code",
   "execution_count": 141,
   "metadata": {},
   "outputs": [],
   "source": [
    "driver.get(fitness[0])"
   ]
  },
  {
   "cell_type": "code",
   "execution_count": 145,
   "metadata": {},
   "outputs": [],
   "source": [
    "fitness_data = []\n",
    "tag = driver.find_elements_by_class_name(\"post_qa_q\")\n",
    "for ind in range(len(tag)):\n",
    "    question = driver.find_elements_by_class_name(\"post_qa_q\")[ind].get_attribute(\"innerText\")\n",
    "    answer = driver.find_element_by_class_name(\"ct-inner-content\").find_elements_by_tag_name(\"p\")[ind].get_attribute(\"innerText\")\n",
    "    fitness_data.append([question,answer])\n",
    "write_json(fitness_data , 'fitness');"
   ]
  },
  {
   "cell_type": "code",
   "execution_count": 161,
   "metadata": {},
   "outputs": [],
   "source": [
    "driver.get(fitness[2])"
   ]
  },
  {
   "cell_type": "code",
   "execution_count": 168,
   "metadata": {},
   "outputs": [],
   "source": [
    "fitness_data = []\n",
    "div = driver.find_elements_by_class_name(\"faqAnsCont\")[:15]\n",
    "for ind in div:\n",
    "    question = ind.find_element_by_class_name(\"ques\").get_attribute(\"innerText\")\n",
    "    answer = ind.find_element_by_class_name(\"ans\").get_attribute(\"innerText\")\n",
    "    fitness_data.append([question,answer])\n",
    "write_json(fitness_data , 'fitness');"
   ]
  },
  {
   "cell_type": "markdown",
   "metadata": {},
   "source": [
    "# heart attack Qns"
   ]
  },
  {
   "cell_type": "code",
   "execution_count": 13,
   "metadata": {},
   "outputs": [],
   "source": [
    "driver.get(heart_attack[2])"
   ]
  },
  {
   "cell_type": "code",
   "execution_count": 36,
   "metadata": {},
   "outputs": [],
   "source": [
    "create_intent('heart')"
   ]
  },
  {
   "cell_type": "code",
   "execution_count": 39,
   "metadata": {},
   "outputs": [],
   "source": [
    "data_heart = []\n",
    "section = driver.find_elements_by_xpath(\"/html/body/div[2]/main/article/div/div/section\")\n",
    "section = section[1:6]\n",
    "for ind in section:\n",
    "    question = ind.find_element_by_tag_name(\"h2\").text\n",
    "    answer = ind.get_attribute(\"innerText\")\n",
    "    data_heart.append([question,answer])"
   ]
  },
  {
   "cell_type": "code",
   "execution_count": 38,
   "metadata": {},
   "outputs": [],
   "source": [
    "write_json(data_heart , 'heart');"
   ]
  },
  {
   "cell_type": "code",
   "execution_count": 40,
   "metadata": {},
   "outputs": [],
   "source": [
    "driver.get(heart_attack[3])"
   ]
  },
  {
   "cell_type": "code",
   "execution_count": 48,
   "metadata": {},
   "outputs": [],
   "source": [
    "data_heart =[]\n",
    "tag  = driver.find_elements_by_xpath(\"/html/body/div/center/table/tbody/tr/td/ul\")\n",
    "for i in range(1,len(tag)+1):\n",
    "    question = driver.find_element_by_xpath(f\"/html/body/div/center/table/tbody/tr/td/p[{i+1}]\").text\n",
    "    answer = driver.find_element_by_xpath(f\"/html/body/div/center/table/tbody/tr/td/ul[{i}]\").get_attribute(\"innerText\")\n",
    "    data_heart.append([question,answer])\n",
    "write_json(data_heart , 'heart');"
   ]
  },
  {
   "cell_type": "code",
   "execution_count": 49,
   "metadata": {},
   "outputs": [],
   "source": [
    "data_heart =[]\n",
    "tag  = driver.find_elements_by_xpath(\"/html/body/div/center/table/tbody/tr/td/font[2]/p\")\n",
    "for i in range(1,len(tag)+1):\n",
    "    question = driver.find_element_by_xpath(f\"/html/body/div/center/table/tbody/tr/td/font[2]/p[{i}]\").text\n",
    "    answer = driver.find_element_by_xpath(f\"/html/body/div/center/table/tbody/tr/td/font[2]/ul[{i}]\").get_attribute(\"innerText\")\n",
    "    data_heart.append([question,answer])\n",
    "write_json(data_heart , 'heart');"
   ]
  },
  {
   "cell_type": "code",
   "execution_count": 51,
   "metadata": {},
   "outputs": [],
   "source": [
    "driver.get(heart_attack[5])"
   ]
  },
  {
   "cell_type": "code",
   "execution_count": 58,
   "metadata": {},
   "outputs": [],
   "source": [
    "data_heart =[]\n",
    "tag = driver.find_elements_by_class_name(\"panel-heading\")\n",
    "for ind in range(len(tag)):\n",
    "    question = driver.find_elements_by_class_name(\"panel-heading\")[ind].get_attribute(\"innerText\")\n",
    "    answer = driver.find_elements_by_class_name(\"panel-body\")[ind].get_attribute(\"innerText\")\n",
    "    data_heart.append([question,answer])\n",
    "write_json(data_heart , 'heart');   "
   ]
  },
  {
   "cell_type": "code",
   "execution_count": 66,
   "metadata": {},
   "outputs": [],
   "source": [
    "driver.get(heart_attack[6])"
   ]
  },
  {
   "cell_type": "code",
   "execution_count": 61,
   "metadata": {},
   "outputs": [],
   "source": [
    "data_heart =[]\n",
    "tag = driver.find_elements_by_class_name(\"panel-heading\")\n",
    "for ind in range(len(tag)):\n",
    "    question = driver.find_elements_by_class_name(\"panel-heading\")[ind].get_attribute(\"innerText\")\n",
    "    answer = driver.find_elements_by_class_name(\"panel-body\")[ind].get_attribute(\"innerText\")\n",
    "    data_heart.append([question,answer])\n",
    "write_json(data_heart , 'heart');  "
   ]
  },
  {
   "cell_type": "code",
   "execution_count": null,
   "metadata": {},
   "outputs": [],
   "source": []
  },
  {
   "cell_type": "markdown",
   "metadata": {},
   "source": [
    "# nutrition Qns"
   ]
  },
  {
   "cell_type": "code",
   "execution_count": 67,
   "metadata": {},
   "outputs": [],
   "source": [
    "driver.get(nutrition[0])"
   ]
  },
  {
   "cell_type": "code",
   "execution_count": 68,
   "metadata": {},
   "outputs": [],
   "source": [
    "data_nutri =[]\n",
    "tag = driver.find_elements_by_class_name(\"panel-heading\")\n",
    "for ind in range(len(tag)):\n",
    "    question = driver.find_elements_by_class_name(\"panel-heading\")[ind].get_attribute(\"innerText\")\n",
    "    answer = driver.find_elements_by_class_name(\"panel-body\")[ind].get_attribute(\"innerText\")\n",
    "    data_nutri.append([question,answer])\n",
    "write_json(data_nutri , 'nutrition'); "
   ]
  },
  {
   "cell_type": "code",
   "execution_count": 69,
   "metadata": {},
   "outputs": [],
   "source": [
    "driver.get(nutrition[1])"
   ]
  },
  {
   "cell_type": "code",
   "execution_count": 85,
   "metadata": {},
   "outputs": [],
   "source": [
    "data_nutri =[]\n",
    "tag = driver.find_elements_by_class_name(\"nal-details__title\")\n",
    "for ind in range(len(tag)):\n",
    "    # driver.find_elements_by_class_name(\"field--item\")[ind].click()\n",
    "    question = driver.find_elements_by_class_name(\"nal-details__title\")[ind].get_attribute(\"innerText\")\n",
    "    answer = driver.find_elements_by_class_name(\"nal-details__content\")[ind].get_attribute(\"innerText\")\n",
    "    data_nutri.append([question,answer])\n",
    "data_nutri\n",
    "write_json(data_nutri , 'nutrition'); "
   ]
  },
  {
   "cell_type": "code",
   "execution_count": 89,
   "metadata": {},
   "outputs": [],
   "source": [
    "driver.get(nutrition[5])"
   ]
  },
  {
   "cell_type": "code",
   "execution_count": null,
   "metadata": {},
   "outputs": [],
   "source": []
  },
  {
   "cell_type": "markdown",
   "metadata": {},
   "source": [
    "# Greetings "
   ]
  },
  {
   "cell_type": "code",
   "execution_count": 5,
   "metadata": {},
   "outputs": [],
   "source": [
    "qns = [\"good\",\"fine\",\"hi\",\"hi there\", \"hello\", \"hey\", \"good morning\", \"good day\", \"good afternoon\", \"good evening\", \"good to see you\",  \"how are you\", \"how are you doing\",  \"how is everything going\",  \"how have you been\", \"what's up\", \"what is happening\", \"howdy\",\"thank you\",\"bye\"]\n",
    "ans = [\n",
    "    \"Nice!\",\n",
    "    \"Nice!\"\n",
    "    \"Hello, Nice to meet you!\",\n",
    "    \"Hello, Nice to meet you!\",\n",
    "    \"Hello, Nice to meet you!\",\n",
    "    \"Hello, Nice to meet you!\",\n",
    "    \"Good  Morning, have a nice day ahead!\",\n",
    "    \"Good  Day, have a nice day ahead!\",\n",
    "    \"Good  Afternoon, have a nice day ahead!\",\n",
    "    \"Good  Evening, have a nice evening ahead!\",\n",
    "    \"Pleased to meet you too\",\n",
    "    \"I am fine.How about you ?\",\n",
    "    \"I am doing good..\",\n",
    "    \"I am doing good..\",\n",
    "    \"I am doing good..\",\n",
    "    \"Great!\",\n",
    "    \"Great!\",\n",
    "    \"All good!\",\n",
    "    \"Hello,Nice to meet you!\",\n",
    "    \"Mention not.Happy to help ypu always!\",\n",
    "    \"Bye, Hope to see you again!\"\n",
    "]\n",
    "greeting = []\n",
    "for ind in range(len(qns)):\n",
    "    greeting.append([qns[ind] , ans[ind]])"
   ]
  },
  {
   "cell_type": "code",
   "execution_count": 10,
   "metadata": {},
   "outputs": [],
   "source": [
    "create_intent('greeting')\n",
    "write_json(greeting , 'greeting'); "
   ]
  },
  {
   "cell_type": "code",
   "execution_count": 90,
   "metadata": {},
   "outputs": [],
   "source": [
    "driver.close()"
   ]
  }
 ],
 "metadata": {
  "kernelspec": {
   "display_name": "Python 3.9.5 64-bit (system)",
   "language": "python",
   "name": "python3"
  },
  "language_info": {
   "codemirror_mode": {
    "name": "ipython",
    "version": 3
   },
   "file_extension": ".py",
   "mimetype": "text/x-python",
   "name": "python",
   "nbconvert_exporter": "python",
   "pygments_lexer": "ipython3",
   "version": "3.9.5"
  },
  "orig_nbformat": 4,
  "vscode": {
   "interpreter": {
    "hash": "f3af051ccc16277f38a49d9d6761e89433bf087c92cbe6406261e9c3be520072"
   }
  }
 },
 "nbformat": 4,
 "nbformat_minor": 2
}
