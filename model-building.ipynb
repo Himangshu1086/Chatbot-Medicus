{
 "cells": [
  {
   "cell_type": "code",
   "execution_count": 1,
   "metadata": {},
   "outputs": [
    {
     "name": "stderr",
     "output_type": "stream",
     "text": [
      "[nltk_data] Downloading package punkt to\n",
      "[nltk_data]     C:\\Users\\HIMANGSHUB\\AppData\\Roaming\\nltk_data...\n",
      "[nltk_data]   Package punkt is already up-to-date!\n"
     ]
    },
    {
     "data": {
      "text/plain": [
       "True"
      ]
     },
     "execution_count": 1,
     "metadata": {},
     "output_type": "execute_result"
    }
   ],
   "source": [
    "import pandas as pd\n",
    "import numpy as np\n",
    "import seaborn as sns \n",
    "from matplotlib import pyplot as plt\n",
    "from sklearn.model_selection import train_test_split as TTS\n",
    "from sklearn.feature_extraction.text import TfidfVectorizer\n",
    "from sklearn.preprocessing import LabelEncoder as LE\n",
    "from sklearn.metrics.pairwise import cosine_similarity\n",
    "import random\n",
    "\n",
    "import nltk\n",
    "import re\n",
    "from sklearn.svm import SVC\n",
    "from nltk.stem.lancaster import LancasterStemmer\n",
    "nltk.download('punkt')\n"
   ]
  },
  {
   "cell_type": "markdown",
   "metadata": {},
   "source": [
    "## Data reading"
   ]
  },
  {
   "cell_type": "code",
   "execution_count": 2,
   "metadata": {},
   "outputs": [
    {
     "data": {
      "text/html": [
       "<div>\n",
       "<style scoped>\n",
       "    .dataframe tbody tr th:only-of-type {\n",
       "        vertical-align: middle;\n",
       "    }\n",
       "\n",
       "    .dataframe tbody tr th {\n",
       "        vertical-align: top;\n",
       "    }\n",
       "\n",
       "    .dataframe thead th {\n",
       "        text-align: right;\n",
       "    }\n",
       "</style>\n",
       "<table border=\"1\" class=\"dataframe\">\n",
       "  <thead>\n",
       "    <tr style=\"text-align: right;\">\n",
       "      <th></th>\n",
       "      <th>Question</th>\n",
       "      <th>Answer</th>\n",
       "      <th>Intent</th>\n",
       "    </tr>\n",
       "  </thead>\n",
       "  <tbody>\n",
       "    <tr>\n",
       "      <th>0</th>\n",
       "      <td>what does it mean to have a mental illness</td>\n",
       "      <td>Mental illnesses are health conditions that di...</td>\n",
       "      <td>mental_health</td>\n",
       "    </tr>\n",
       "    <tr>\n",
       "      <th>1</th>\n",
       "      <td>who does mental illness affect</td>\n",
       "      <td>It is estimated that mental illness affects 1 ...</td>\n",
       "      <td>mental_health</td>\n",
       "    </tr>\n",
       "    <tr>\n",
       "      <th>2</th>\n",
       "      <td>what causes mental illness</td>\n",
       "      <td>It is estimated that mental illness affects 1 ...</td>\n",
       "      <td>mental_health</td>\n",
       "    </tr>\n",
       "    <tr>\n",
       "      <th>3</th>\n",
       "      <td>what are some of the warning signs of mental i...</td>\n",
       "      <td>Symptoms of mental health disorders vary depen...</td>\n",
       "      <td>mental_health</td>\n",
       "    </tr>\n",
       "    <tr>\n",
       "      <th>4</th>\n",
       "      <td>can people with mental illness recover</td>\n",
       "      <td>When healing from mental illness, early identi...</td>\n",
       "      <td>mental_health</td>\n",
       "    </tr>\n",
       "  </tbody>\n",
       "</table>\n",
       "</div>"
      ],
      "text/plain": [
       "                                            Question  \\\n",
       "0         what does it mean to have a mental illness   \n",
       "1                     who does mental illness affect   \n",
       "2                         what causes mental illness   \n",
       "3  what are some of the warning signs of mental i...   \n",
       "4             can people with mental illness recover   \n",
       "\n",
       "                                              Answer         Intent  \n",
       "0  Mental illnesses are health conditions that di...  mental_health  \n",
       "1  It is estimated that mental illness affects 1 ...  mental_health  \n",
       "2  It is estimated that mental illness affects 1 ...  mental_health  \n",
       "3  Symptoms of mental health disorders vary depen...  mental_health  \n",
       "4  When healing from mental illness, early identi...  mental_health  "
      ]
     },
     "execution_count": 2,
     "metadata": {},
     "output_type": "execute_result"
    }
   ],
   "source": [
    "chatbot_df = pd.read_csv(\"Cleaned Dataset\\\\final-dataset.csv\")\n",
    "chatbot_df.head()"
   ]
  },
  {
   "cell_type": "code",
   "execution_count": null,
   "metadata": {},
   "outputs": [],
   "source": []
  },
  {
   "cell_type": "markdown",
   "metadata": {},
   "source": [
    "## Function for the stemming the data"
   ]
  },
  {
   "cell_type": "code",
   "execution_count": 3,
   "metadata": {},
   "outputs": [],
   "source": [
    "stemmer = LancasterStemmer()"
   ]
  },
  {
   "cell_type": "code",
   "execution_count": 4,
   "metadata": {},
   "outputs": [],
   "source": [
    "def cleanup(sentence):\n",
    "    sentence = sentence.lower()\n",
    "    word_tok = nltk.word_tokenize(sentence)\n",
    "    stemmed_words = [stemmer.stem(w) for w in word_tok]\n",
    "    return ' '.join(stemmed_words)"
   ]
  },
  {
   "cell_type": "code",
   "execution_count": 5,
   "metadata": {},
   "outputs": [
    {
     "data": {
      "text/plain": [
       "'q : symptom 6 of heart attack ?'"
      ]
     },
     "execution_count": 5,
     "metadata": {},
     "output_type": "execute_result"
    }
   ],
   "source": [
    "sentence = \"Q: symptoms 6 of heart attack ?\"\n",
    "cleanup(sentence)"
   ]
  },
  {
   "cell_type": "markdown",
   "metadata": {},
   "source": [
    "## tfidf and label encoding and stemming data"
   ]
  },
  {
   "cell_type": "code",
   "execution_count": 6,
   "metadata": {},
   "outputs": [],
   "source": [
    "tfv = TfidfVectorizer(min_df=1, stop_words='english')\n",
    "label_encode = LE()"
   ]
  },
  {
   "cell_type": "code",
   "execution_count": 7,
   "metadata": {},
   "outputs": [],
   "source": [
    "input_data = chatbot_df[\"Question\"]\n",
    "output_data = chatbot_df[\"Intent\"]"
   ]
  },
  {
   "cell_type": "code",
   "execution_count": 8,
   "metadata": {},
   "outputs": [],
   "source": [
    "stemmed_input_data = []\n",
    "for question in input_data:\n",
    "    stemmed_input_data.append(cleanup(question))"
   ]
  },
  {
   "cell_type": "code",
   "execution_count": 9,
   "metadata": {},
   "outputs": [],
   "source": [
    "tfv.fit(stemmed_input_data)\n",
    "label_encode.fit(output_data)\n",
    "\n",
    "input_vec = tfv.transform(stemmed_input_data)\n",
    "output_le = label_encode.transform(output_data)"
   ]
  },
  {
   "cell_type": "code",
   "execution_count": 10,
   "metadata": {},
   "outputs": [
    {
     "name": "stdout",
     "output_type": "stream",
     "text": [
      "<class 'scipy.sparse.csr.csr_matrix'>\n",
      "(721, 999)\n"
     ]
    }
   ],
   "source": [
    "print(type(input_vec))\n",
    "print(input_vec.shape)"
   ]
  },
  {
   "cell_type": "markdown",
   "metadata": {},
   "source": [
    "### Spliting the data "
   ]
  },
  {
   "cell_type": "code",
   "execution_count": 11,
   "metadata": {},
   "outputs": [],
   "source": [
    "x_train,x_test,y_train,y_test = TTS(input_vec,output_le, test_size = .30 , random_state=30)"
   ]
  },
  {
   "cell_type": "markdown",
   "metadata": {},
   "source": [
    "## Model implementation - SVM"
   ]
  },
  {
   "cell_type": "code",
   "execution_count": 12,
   "metadata": {},
   "outputs": [
    {
     "data": {
      "text/plain": [
       "SVC(kernel='linear')"
      ]
     },
     "execution_count": 12,
     "metadata": {},
     "output_type": "execute_result"
    }
   ],
   "source": [
    "model = SVC(kernel='linear')\n",
    "model.fit(x_train, y_train)"
   ]
  },
  {
   "cell_type": "code",
   "execution_count": 13,
   "metadata": {},
   "outputs": [],
   "source": [
    "# predicted value for the test data\n",
    "y_pred = model.predict(x_test)"
   ]
  },
  {
   "cell_type": "code",
   "execution_count": 14,
   "metadata": {},
   "outputs": [
    {
     "name": "stdout",
     "output_type": "stream",
     "text": [
      "\n",
      "accuracy score: 87.557604\n",
      "[[55  0  0  0  0  1  2]\n",
      " [ 2 34  0  0  0  0  1]\n",
      " [ 2  0 23  0  1  1  0]\n",
      " [ 3  0  0  1  0  0  0]\n",
      " [ 3  1  0  0 36  0  0]\n",
      " [ 2  0  0  0  1 17  0]\n",
      " [ 1  3  1  0  1  1 24]]\n"
     ]
    },
    {
     "data": {
      "text/plain": [
       "Text(0.5, 1.0, 'Confusion matrix')"
      ]
     },
     "execution_count": 14,
     "metadata": {},
     "output_type": "execute_result"
    },
    {
     "data": {
      "image/png": "[encoded data removed]",
      "text/plain": [
       "<Figure size 432x288 with 2 Axes>"
      ]
     },
     "metadata": {
      "needs_background": "light"
     },
     "output_type": "display_data"
    }
   ],
   "source": [
    "from sklearn.metrics import accuracy_score,recall_score,roc_auc_score,confusion_matrix\n",
    "print(\"\\naccuracy score: %f\"%(accuracy_score(y_test,y_pred)*100))\n",
    "print(confusion_matrix(y_test,y_pred))\n",
    "sns.heatmap(data=confusion_matrix(y_test,y_pred),annot=True)\n",
    "plt.title(\"Confusion matrix\")"
   ]
  },
  {
   "cell_type": "code",
   "execution_count": null,
   "metadata": {},
   "outputs": [],
   "source": []
  },
  {
   "cell_type": "code",
   "execution_count": null,
   "metadata": {},
   "outputs": [],
   "source": []
  },
  {
   "cell_type": "code",
   "execution_count": null,
   "metadata": {},
   "outputs": [],
   "source": []
  },
  {
   "cell_type": "markdown",
   "metadata": {},
   "source": [
    "## Testing new query "
   ]
  },
  {
   "cell_type": "code",
   "execution_count": 15,
   "metadata": {},
   "outputs": [
    {
     "data": {
      "text/plain": [
       "array(['heart'], dtype=object)"
      ]
     },
     "execution_count": 15,
     "metadata": {},
     "output_type": "execute_result"
    }
   ],
   "source": [
    "query = \"sympto  attack\"\n",
    "stemmed_query = cleanup(query.strip())\n",
    "query_vec = tfv.transform([stemmed_query])\n",
    "pre = model.predict(query_vec)[0]\n",
    "intent = label_encode.inverse_transform([pre])\n",
    "intent"
   ]
  },
  {
   "cell_type": "code",
   "execution_count": 16,
   "metadata": {},
   "outputs": [],
   "source": [
    "question_set = chatbot_df[ chatbot_df['Intent']==intent[0]]"
   ]
  },
  {
   "cell_type": "markdown",
   "metadata": {},
   "source": [
    "## Apply Cosine Similarity to get the appropriate Answer"
   ]
  },
  {
   "cell_type": "code",
   "execution_count": 17,
   "metadata": {},
   "outputs": [],
   "source": [
    "cos_sims = []\n",
    "for question in question_set['Question']:\n",
    "    sims = cosine_similarity(tfv.transform([cleanup(question.strip())]), query_vec)\n",
    "    cos_sims.append(sims)"
   ]
  },
  {
   "cell_type": "code",
   "execution_count": 18,
   "metadata": {},
   "outputs": [],
   "source": [
    "most_similar_question_index = cos_sims.index(max(cos_sims))"
   ]
  },
  {
   "cell_type": "markdown",
   "metadata": {},
   "source": [
    "## output"
   ]
  },
  {
   "cell_type": "code",
   "execution_count": 19,
   "metadata": {},
   "outputs": [
    {
     "data": {
      "text/plain": [
       "Question                               treating heart attacks\n",
       "Answer      Treating heart attacksWhile waiting for an amb...\n",
       "Intent                                                  heart\n",
       "Name: 572, dtype: object"
      ]
     },
     "execution_count": 19,
     "metadata": {},
     "output_type": "execute_result"
    }
   ],
   "source": [
    "# most similar question index \n",
    "question_set.iloc[most_similar_question_index]"
   ]
  },
  {
   "cell_type": "code",
   "execution_count": null,
   "metadata": {},
   "outputs": [],
   "source": []
  },
  {
   "cell_type": "markdown",
   "metadata": {},
   "source": [
    "## Function to get the top 5 Possible questions"
   ]
  },
  {
   "cell_type": "code",
   "execution_count": 20,
   "metadata": {},
   "outputs": [
    {
     "data": {
      "text/plain": [
       "[[0.6401609369318505, 1],\n",
       " [0.6368328367216328, 2],\n",
       " [0.6204418884233132, 0],\n",
       " [0.5907239410160834, 4],\n",
       " [0.5661838821593628, 123]]"
      ]
     },
     "execution_count": 20,
     "metadata": {},
     "output_type": "execute_result"
    }
   ],
   "source": [
    "def top_5_similar_qns(cos_sim_array):\n",
    "    indx = []\n",
    "    for ind , score in enumerate(cos_sim_array):\n",
    "        indx.append([score[0][0] , ind])\n",
    "    indx.sort(reverse=True)\n",
    "    return indx[:5]\n",
    "top_5_similar_qns(cos_sims)"
   ]
  },
  {
   "cell_type": "code",
   "execution_count": null,
   "metadata": {},
   "outputs": [],
   "source": []
  },
  {
   "cell_type": "markdown",
   "metadata": {},
   "source": [
    "## Response to not found any match"
   ]
  },
  {
   "cell_type": "code",
   "execution_count": 21,
   "metadata": {},
   "outputs": [],
   "source": [
    "def not_found():\n",
    "    print(\"Medicus: Sorry, I could not understand you question!\")"
   ]
  },
  {
   "cell_type": "markdown",
   "metadata": {},
   "source": [
    "## Function for Chat "
   ]
  },
  {
   "cell_type": "code",
   "execution_count": 39,
   "metadata": {},
   "outputs": [],
   "source": [
    "def ChatMatch(query):\n",
    "    # clean the query\n",
    "    query = cleanup(query.strip())\n",
    "    # vectorized the query\n",
    "    query_vec = tfv.transform([query])\n",
    "    # predict the intent \n",
    "    pred = model.predict(query_vec)[0]\n",
    "    intent = label_encode.inverse_transform([pred])\n",
    "    # find the question set based on the intent classified \n",
    "    question_set = chatbot_df[ chatbot_df['Intent']==intent[0]]\n",
    "    # apply cosine similarity to get the top 5 similar match\n",
    "    cos_sims = []\n",
    "    for question in question_set['Question']:\n",
    "        sims = cosine_similarity(tfv.transform([question]), query_vec)\n",
    "        cos_sims.append(sims)\n",
    "    # top 5 questions with index and scores\n",
    "    top_5_match = top_5_similar_qns(cos_sims)\n",
    "    \n",
    "    if(top_5_match[0][0] >= 0.5):\n",
    "        max_score_idx = top_5_match[0][1]\n",
    "        print(f\"Medicus: {question_set.iloc[max_score_idx].Answer}\")\n",
    "        index = int(input(f\"Medicus: Was this answer helpful? \\n 1.Yes \\n 2.No\"))\n",
    "        if(index==1):\n",
    "            print(\"Medicus: Thank you.. Happy Reading !\")\n",
    "        else:\n",
    "            print(\"Medicus: Hope the following helps :\")\n",
    "            print(\"Top five query based ob your search :\")\n",
    "            for idx in range(5):\n",
    "                print(f\"{idx+1}. {question_set.iloc[top_5_match[idx][1]].Question}\")\n",
    "            print(\"6. Not found\")\n",
    "            res = int(input(\"Select the questions Number..\"))\n",
    "            if(res==6):\n",
    "                not_found()\n",
    "            else:\n",
    "                print(f\"Medicus: {question_set.iloc[top_5_match[res-1][1]].Answer}\" )\n",
    "    else:\n",
    "        not_found()\n",
    "    "
   ]
  },
  {
   "cell_type": "code",
   "execution_count": null,
   "metadata": {},
   "outputs": [],
   "source": []
  },
  {
   "cell_type": "markdown",
   "metadata": {},
   "source": [
    "## CHATBOT STARTS"
   ]
  },
  {
   "cell_type": "code",
   "execution_count": 40,
   "metadata": {},
   "outputs": [
    {
     "name": "stdout",
     "output_type": "stream",
     "text": [
      "Medicus: Welcome to my world!\n",
      "Medicus: Hello, Nice to meet you!\n",
      "Hope the following helps :\n",
      "Top five query based ob your search :\n",
      "1. hello\n",
      "2. bye\n",
      "3. thank you\n",
      "4. howdy\n",
      "5. what is happening\n",
      "6. Not found\n",
      "Medicus: All good!\n",
      "Medicus: The treatment options include medications, angioplasty and stent placement, atherectomy and coronary artery bypass grafting. The choice of treatment will depend on the extent of the disease.\n",
      "Hope the following helps :\n",
      "Top five query based ob your search :\n",
      "1. what are treatment options available to treat heart attack\n",
      "2. complications of a heart attack\n",
      "3. recovering from a heart attack\n",
      "4. causes of a heart attack\n",
      "5. symptoms of a heart attack\n",
      "6. Not found\n",
      "Medicus: Symptoms of a heart attackSymptoms of a heart attack can include:chest pain a feeling of pressure, heaviness, tightness or squeezing across your chestpain in other parts of the body  it can feel as if the pain is spreading from your chest to your arms (usually the left arm, but it can affect both arms), jaw, neck, back and tummyfeeling lightheaded or dizzysweatingshortness of breathfeeling sick (nausea) or being sick (vomiting)an overwhelming feeling of anxiety (similar to a panic attack)coughing or wheezingThe chest pain is often severe, but some people may only experience minor pain, similar to indigestion.While the most common symptom in both men and women is chest pain, women are more likely to have other symptoms such as shortness of breath, feeling or being sick and back or jaw pain.Call 999 immediately if you think someone might be having a heart attack. The faster you act, the better their chances.\n",
      "Sorry, I could not understand you question!\n",
      "Sorry, I could not understand you question!\n",
      "Sorry, I could not understand you question!\n",
      "Medicus: Hello, Nice to meet you!\n",
      "Medicus: Thank you.. Happy Reading !\n",
      "Good Bye, Hope to see you again !\n"
     ]
    }
   ],
   "source": [
    "print(\"Medicus: Welcome to my world!\")\n",
    "chat = True \n",
    "\n",
    "while chat:\n",
    "    query = input(\"Medicus: HELLO, Asked me anything about disease!\")\n",
    "    if query.lower() == 'bye':\n",
    "        print(\"Medicus: Good Bye, Hope to see you again !\")\n",
    "        chat = False\n",
    "    elif query:\n",
    "        ChatMatch(query)\n",
    "    else:\n",
    "        chat == False"
   ]
  },
  {
   "cell_type": "code",
   "execution_count": null,
   "metadata": {},
   "outputs": [],
   "source": []
  },
  {
   "cell_type": "code",
   "execution_count": null,
   "metadata": {},
   "outputs": [],
   "source": []
  },
  {
   "cell_type": "code",
   "execution_count": null,
   "metadata": {},
   "outputs": [],
   "source": []
  },
  {
   "cell_type": "markdown",
   "metadata": {},
   "source": [
    "## Build model with Lemmatized data"
   ]
  },
  {
   "cell_type": "code",
   "execution_count": 25,
   "metadata": {},
   "outputs": [],
   "source": [
    "# chatbot_df_lem = pd.read_csv(\"Cleaned Dataset\\lemmatized-data.csv\")\n",
    "# input_data_lem = chatbot_df_lem[\"Question\"]\n",
    "# output_data_lem = chatbot_df_lem[\"Intent\"]\n",
    "# tfv.fit(input_data_lem)\n",
    "# label_encode.fit(output_data_lem)\n",
    "# input_vec_lem = tfv.transform(input_data_lem)\n",
    "# output_le_lem = label_encode.transform(output_data_lem)\n",
    "# x_train_lem,x_test_lem,y_train_lem,y_test_lem = TTS(input_vec_lem,output_le_lem, test_size = .30 , random_state=30)\n",
    "# model_lem = SVC(kernel='linear')\n",
    "# model_lem.fit(x_train_lem, y_train_lem)\n",
    "# print(\"SVC Score:\", model_lem.score(x_test_lem, y_test_lem))\n"
   ]
  },
  {
   "cell_type": "code",
   "execution_count": null,
   "metadata": {},
   "outputs": [],
   "source": []
  },
  {
   "cell_type": "markdown",
   "metadata": {},
   "source": []
  },
  {
   "cell_type": "code",
   "execution_count": null,
   "metadata": {},
   "outputs": [],
   "source": []
  },
  {
   "cell_type": "code",
   "execution_count": null,
   "metadata": {},
   "outputs": [],
   "source": []
  }
 ],
 "metadata": {
  "kernelspec": {
   "display_name": "Python 3.9.5 64-bit (system)",
   "language": "python",
   "name": "python3"
  },
  "language_info": {
   "codemirror_mode": {
    "name": "ipython",
    "version": 3
   },
   "file_extension": ".py",
   "mimetype": "text/x-python",
   "name": "python",
   "nbconvert_exporter": "python",
   "pygments_lexer": "ipython3",
   "version": "3.9.5"
  },
  "orig_nbformat": 4,
  "vscode": {
   "interpreter": {
    "hash": "f3af051ccc16277f38a49d9d6761e89433bf087c92cbe6406261e9c3be520072"
   }
  }
 },
 "nbformat": 4,
 "nbformat_minor": 2
}
